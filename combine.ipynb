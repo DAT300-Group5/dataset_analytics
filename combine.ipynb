{
 "cells": [
  {
   "cell_type": "code",
   "execution_count": 2,
   "id": "fce2c431",
   "metadata": {},
   "outputs": [
    {
     "name": "stdout",
     "output_type": "stream",
     "text": [
      "✅ Merge completed\n",
      "Output file: ./apple_watch_merged_minimal.csv\n",
      "Total rows: 100844\n",
      "Preview:\n",
      "                                          type  unit              creationDate                 startDate                   endDate   value\n",
      "             HKQuantityTypeIdentifierStepCount count 2016-09-22 14:54:10 +0900 2016-09-22 13:41:39 +0900 2016-09-22 13:49:03 +0900     239\n",
      "HKQuantityTypeIdentifierDistanceWalkingRunning    km 2016-09-22 14:54:10 +0900 2016-09-22 13:41:39 +0900 2016-09-22 13:49:03 +0900 0.13665\n",
      "        HKQuantityTypeIdentifierFlightsClimbed count 2016-09-22 14:54:10 +0900 2016-09-22 13:48:32 +0900 2016-09-22 13:48:32 +0900       1\n",
      "        HKQuantityTypeIdentifierFlightsClimbed count 2016-09-22 14:54:10 +0900 2016-09-22 13:48:50 +0900 2016-09-22 13:48:50 +0900       1\n",
      "             HKQuantityTypeIdentifierStepCount count 2016-09-22 14:54:10 +0900 2016-09-22 13:49:03 +0900 2016-09-22 13:57:53 +0900     433\n"
     ]
    }
   ],
   "source": [
    "import pandas as pd\n",
    "from pathlib import Path\n",
    "\n",
    "# ====== Set your file paths ======\n",
    "file1 = \"./input/AppleWatch - HeartRate StepCount etc 8440 rows - analysis.csv\"\n",
    "file2 = \"./input/AppleWatch - HeartRate StepCount etc 92406 rows - export20200620105726.csv\"\n",
    "out_path = \"./apple_watch_merged_minimal.csv\"\n",
    "# =================================\n",
    "\n",
    "# Columns to keep\n",
    "KEEP_COLS = [\"type\", \"unit\", \"creationDate\", \"startDate\", \"endDate\", \"value\"]\n",
    "\n",
    "def read_minimal(path):\n",
    "    # Read CSV with all columns as string to avoid dtype warnings\n",
    "    df = pd.read_csv(\n",
    "        path,\n",
    "        dtype=str,            # Read everything as string\n",
    "        encoding=\"utf-8\",     # Change to \"utf-8-sig\" or \"cp932\" if encoding errors occur\n",
    "        engine=\"python\"       # More tolerant to special characters\n",
    "    )\n",
    "    # Clean column names (strip spaces, remove BOM if any)\n",
    "    df.columns = [c.strip().lstrip(\"\\ufeff\") for c in df.columns]\n",
    "    # Add missing columns as empty string\n",
    "    missing = [c for c in KEEP_COLS if c not in df.columns]\n",
    "    for c in missing:\n",
    "        df[c] = \"\"\n",
    "    # Keep only the required columns\n",
    "    df = df[KEEP_COLS].copy()\n",
    "    # Drop rows where all columns are empty\n",
    "    df = df[~(df[KEEP_COLS].apply(lambda s: s.fillna(\"\").str.strip()).eq(\"\").all(axis=1))]\n",
    "    return df\n",
    "\n",
    "# Read both files\n",
    "df1 = read_minimal(file1)\n",
    "df2 = read_minimal(file2)\n",
    "\n",
    "# Concatenate\n",
    "merged = pd.concat([df1, df2], ignore_index=True)\n",
    "\n",
    "# Sort by startDate, then creationDate (stable sort)\n",
    "merged = merged.sort_values(\n",
    "    by=[\"startDate\", \"creationDate\"],\n",
    "    kind=\"mergesort\",\n",
    "    na_position=\"last\"\n",
    ")\n",
    "\n",
    "# Save the merged file\n",
    "Path(out_path).parent.mkdir(parents=True, exist_ok=True)\n",
    "merged.to_csv(out_path, index=False, encoding=\"utf-8\")\n",
    "\n",
    "print(\"✅ Merge completed\")\n",
    "print(\"Output file:\", out_path)\n",
    "print(\"Total rows:\", len(merged))\n",
    "print(\"Preview:\")\n",
    "print(merged.head(5).to_string(index=False))"
   ]
  }
 ],
 "metadata": {
  "kernelspec": {
   "display_name": "DAT300",
   "language": "python",
   "name": "python3"
  },
  "language_info": {
   "codemirror_mode": {
    "name": "ipython",
    "version": 3
   },
   "file_extension": ".py",
   "mimetype": "text/x-python",
   "name": "python",
   "nbconvert_exporter": "python",
   "pygments_lexer": "ipython3",
   "version": "3.12.11"
  }
 },
 "nbformat": 4,
 "nbformat_minor": 5
}
