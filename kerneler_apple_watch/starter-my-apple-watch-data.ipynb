{
 "cells": [
  {
   "cell_type": "markdown",
   "metadata": {},
   "source": [
    "## Introduction\n",
    "Greetings from the Kaggle bot! This is an automatically-generated kernel with starter code demonstrating how to read in the data and begin exploring. If you're inspired to dig deeper, click the blue \"Fork Notebook\" button at the top of this kernel to begin editing."
   ]
  },
  {
   "cell_type": "markdown",
   "metadata": {},
   "source": [
    "## Exploratory Analysis\n",
    "To begin this exploratory analysis, first import libraries and define functions for plotting the data using `matplotlib`. Depending on the data, not all plots will be made. (Hey, I'm just a simple kerneling bot, not a Kaggle Competitions Grandmaster!)"
   ]
  },
  {
   "cell_type": "code",
   "execution_count": 1,
   "metadata": {
    "_kg_hide-input": false,
    "collapsed": false
   },
   "outputs": [],
   "source": [
    "from mpl_toolkits.mplot3d import Axes3D\n",
    "from sklearn.preprocessing import StandardScaler\n",
    "import matplotlib.pyplot as plt # plotting\n",
    "import numpy as np # linear algebra\n",
    "import os # accessing directory structure\n",
    "import pandas as pd # data processing, CSV file I/O (e.g. pd.read_csv)\n",
    "import math"
   ]
  },
  {
   "cell_type": "markdown",
   "metadata": {},
   "source": [
    "There are 2 csv files in the current version of the dataset:\n"
   ]
  },
  {
   "cell_type": "code",
   "execution_count": 2,
   "metadata": {
    "_kg_hide-input": false,
    "collapsed": false
   },
   "outputs": [],
   "source": [
    "for dirname, _, filenames in os.walk('/kaggle/input'):\n",
    "    for filename in filenames:\n",
    "        print(os.path.join(dirname, filename))"
   ]
  },
  {
   "cell_type": "markdown",
   "metadata": {},
   "source": [
    "The next hidden code cells define functions for plotting data. Click on the \"Code\" button in the published kernel to reveal the hidden code."
   ]
  },
  {
   "cell_type": "code",
   "execution_count": 3,
   "metadata": {
    "_kg_hide-input": true,
    "collapsed": true
   },
   "outputs": [],
   "source": [
    "# Distribution graphs (histogram/bar graph) of column data\n",
    "def plotPerColumnDistribution(df, nGraphShown, nGraphPerRow):\n",
    "    nunique = df.nunique()\n",
    "    df = df[[col for col in df if nunique[col] > 1 and nunique[col] < 50]] # For displaying purposes, pick columns that have between 1 and 50 unique values\n",
    "    nRow, nCol = df.shape\n",
    "    columnNames = list(df)\n",
    "    nGraphRow = math.ceil(nCol / nGraphPerRow)\n",
    "    plt.figure(num = None, figsize = (6 * nGraphPerRow, 8 * nGraphRow), dpi = 80, facecolor = 'w', edgecolor = 'k')\n",
    "    for i in range(min(nCol, nGraphShown)):\n",
    "        plt.subplot(nGraphRow, nGraphPerRow, i + 1)\n",
    "        columnDf = df.iloc[:, i]\n",
    "        if (not np.issubdtype(type(columnDf.iloc[0]), np.number)):\n",
    "            valueCounts = columnDf.value_counts()\n",
    "            valueCounts.plot.bar()\n",
    "        else:\n",
    "            columnDf.hist()\n",
    "        plt.ylabel('counts')\n",
    "        plt.xticks(rotation = 90)\n",
    "        plt.title(f'{columnNames[i]} (column {i})')\n",
    "    plt.tight_layout(pad = 1.0, w_pad = 1.0, h_pad = 1.0)\n",
    "    plt.show()"
   ]
  },
  {
   "cell_type": "code",
   "execution_count": 4,
   "metadata": {
    "_kg_hide-input": true,
    "collapsed": true
   },
   "outputs": [],
   "source": [
    "# Correlation matrix\n",
    "def plotCorrelationMatrix(df, graphWidth):\n",
    "    filename = df.dataframeName\n",
    "    df = df.dropna(axis=\"columns\") # drop columns with NaN\n",
    "    df = df[[col for col in df if df[col].nunique() > 1]] # keep columns where there are more than 1 unique values\n",
    "    if df.shape[1] < 2:\n",
    "        print(f'No correlation plots shown: The number of non-NaN or constant columns ({df.shape[1]}) is less than 2')\n",
    "        return\n",
    "    corr = df.corr(numeric_only=True)\n",
    "    plt.figure(num=None, figsize=(graphWidth, graphWidth), dpi=80, facecolor='w', edgecolor='k')\n",
    "    corrMat = plt.matshow(corr, fignum = 1)\n",
    "    plt.xticks(range(len(corr.columns)), corr.columns, rotation=90)\n",
    "    plt.yticks(range(len(corr.columns)), corr.columns)\n",
    "    plt.gca().xaxis.tick_bottom()\n",
    "    plt.colorbar(corrMat)\n",
    "    plt.title(f'Correlation Matrix for {filename}', fontsize=15)\n",
    "    plt.show()"
   ]
  },
  {
   "cell_type": "code",
   "execution_count": 5,
   "metadata": {
    "_kg_hide-input": true,
    "collapsed": true
   },
   "outputs": [],
   "source": [
    "# Scatter and density plots\n",
    "def plotScatterMatrix(df, plotSize, textSize):\n",
    "    df = df.select_dtypes(include =[np.number]) # keep only numerical columns\n",
    "    # Remove rows and columns that would lead to df being singular\n",
    "    df = df.dropna(axis=\"columns\")\n",
    "    df = df[[col for col in df if df[col].nunique() > 1]] # keep columns where there are more than 1 unique values\n",
    "    columnNames = list(df)\n",
    "    if len(columnNames) > 10: # reduce the number of columns for matrix inversion of kernel density plots\n",
    "        columnNames = columnNames[:10]\n",
    "    df = df[columnNames]\n",
    "    ax = pd.plotting.scatter_matrix(df, alpha=0.75, figsize=[plotSize, plotSize], diagonal='kde')\n",
    "    corrs = df.corr().values\n",
    "    for i, j in zip(*plt.np.triu_indices_from(ax, k = 1)):\n",
    "        ax[i, j].annotate('Corr. coef = %.3f' % corrs[i, j], (0.8, 0.2), xycoords='axes fraction', ha='center', va='center', size=textSize)\n",
    "    plt.suptitle('Scatter and Density Plot')\n",
    "    plt.show()"
   ]
  },
  {
   "cell_type": "markdown",
   "metadata": {},
   "source": [
    "Now you're ready to read in the data and use the plotting functions to visualize the data."
   ]
  },
  {
   "cell_type": "markdown",
   "metadata": {},
   "source": [
    "### Let's check 1st file: /kaggle/input/AppleWatch - HeartRate StepCount etc 8440 rows - analysis.csv"
   ]
  },
  {
   "cell_type": "code",
   "execution_count": 6,
   "metadata": {
    "_kg_hide-input": false,
    "collapsed": false
   },
   "outputs": [
    {
     "name": "stdout",
     "output_type": "stream",
     "text": [
      "There are 1000 rows and 7 columns\n"
     ]
    }
   ],
   "source": [
    "nRowsRead = 1000 # specify 'None' if want to read whole file\n",
    "# AppleWatch - HeartRate StepCount etc 8440 rows - analysis.csv may have more rows in reality, but we are only loading/previewing the first 1000 rows\n",
    "df1 = pd.read_csv('./input/AppleWatch - HeartRate StepCount etc 8440 rows - analysis.csv', delimiter=',', nrows = nRowsRead)\n",
    "df1.dataframeName = 'AppleWatch - HeartRate StepCount etc 8440 rows - analysis.csv'\n",
    "nRow, nCol = df1.shape\n",
    "print(f'There are {nRow} rows and {nCol} columns')"
   ]
  },
  {
   "cell_type": "markdown",
   "metadata": {},
   "source": [
    "Let's take a quick look at what the data looks like:"
   ]
  },
  {
   "cell_type": "code",
   "execution_count": 7,
   "metadata": {
    "_kg_hide-input": false,
    "collapsed": false
   },
   "outputs": [
    {
     "data": {
      "text/html": [
       "<div>\n",
       "<style scoped>\n",
       "    .dataframe tbody tr th:only-of-type {\n",
       "        vertical-align: middle;\n",
       "    }\n",
       "\n",
       "    .dataframe tbody tr th {\n",
       "        vertical-align: top;\n",
       "    }\n",
       "\n",
       "    .dataframe thead th {\n",
       "        text-align: right;\n",
       "    }\n",
       "</style>\n",
       "<table border=\"1\" class=\"dataframe\">\n",
       "  <thead>\n",
       "    <tr style=\"text-align: right;\">\n",
       "      <th></th>\n",
       "      <th>Unnamed: 0</th>\n",
       "      <th>type</th>\n",
       "      <th>unit</th>\n",
       "      <th>creationDate</th>\n",
       "      <th>startDate</th>\n",
       "      <th>endDate</th>\n",
       "      <th>value</th>\n",
       "    </tr>\n",
       "  </thead>\n",
       "  <tbody>\n",
       "    <tr>\n",
       "      <th>0</th>\n",
       "      <td>2</td>\n",
       "      <td>HKQuantityTypeIdentifierHeartRate</td>\n",
       "      <td>count/min</td>\n",
       "      <td>2020-06-13 02:50:42 +0900</td>\n",
       "      <td>2020-06-13 02:50:23 +0900</td>\n",
       "      <td>2020-06-13 02:50:23 +0900</td>\n",
       "      <td>79.5536</td>\n",
       "    </tr>\n",
       "    <tr>\n",
       "      <th>1</th>\n",
       "      <td>3</td>\n",
       "      <td>HKQuantityTypeIdentifierHeartRate</td>\n",
       "      <td>count/min</td>\n",
       "      <td>2020-06-13 02:55:24 +0900</td>\n",
       "      <td>2020-06-13 02:55:10 +0900</td>\n",
       "      <td>2020-06-13 02:55:10 +0900</td>\n",
       "      <td>81.0000</td>\n",
       "    </tr>\n",
       "    <tr>\n",
       "      <th>2</th>\n",
       "      <td>4</td>\n",
       "      <td>HKQuantityTypeIdentifierHeartRate</td>\n",
       "      <td>count/min</td>\n",
       "      <td>2020-06-13 03:01:15 +0900</td>\n",
       "      <td>2020-06-13 02:57:08 +0900</td>\n",
       "      <td>2020-06-13 02:57:08 +0900</td>\n",
       "      <td>85.0000</td>\n",
       "    </tr>\n",
       "    <tr>\n",
       "      <th>3</th>\n",
       "      <td>5</td>\n",
       "      <td>HKQuantityTypeIdentifierHeartRate</td>\n",
       "      <td>count/min</td>\n",
       "      <td>2020-06-13 03:06:23 +0900</td>\n",
       "      <td>2020-06-13 03:02:43 +0900</td>\n",
       "      <td>2020-06-13 03:02:43 +0900</td>\n",
       "      <td>89.0000</td>\n",
       "    </tr>\n",
       "    <tr>\n",
       "      <th>4</th>\n",
       "      <td>6</td>\n",
       "      <td>HKQuantityTypeIdentifierHeartRate</td>\n",
       "      <td>count/min</td>\n",
       "      <td>2020-06-13 03:12:22 +0900</td>\n",
       "      <td>2020-06-13 03:08:34 +0900</td>\n",
       "      <td>2020-06-13 03:08:34 +0900</td>\n",
       "      <td>89.0000</td>\n",
       "    </tr>\n",
       "  </tbody>\n",
       "</table>\n",
       "</div>"
      ],
      "text/plain": [
       "   Unnamed: 0                               type       unit  \\\n",
       "0           2  HKQuantityTypeIdentifierHeartRate  count/min   \n",
       "1           3  HKQuantityTypeIdentifierHeartRate  count/min   \n",
       "2           4  HKQuantityTypeIdentifierHeartRate  count/min   \n",
       "3           5  HKQuantityTypeIdentifierHeartRate  count/min   \n",
       "4           6  HKQuantityTypeIdentifierHeartRate  count/min   \n",
       "\n",
       "                creationDate                  startDate  \\\n",
       "0  2020-06-13 02:50:42 +0900  2020-06-13 02:50:23 +0900   \n",
       "1  2020-06-13 02:55:24 +0900  2020-06-13 02:55:10 +0900   \n",
       "2  2020-06-13 03:01:15 +0900  2020-06-13 02:57:08 +0900   \n",
       "3  2020-06-13 03:06:23 +0900  2020-06-13 03:02:43 +0900   \n",
       "4  2020-06-13 03:12:22 +0900  2020-06-13 03:08:34 +0900   \n",
       "\n",
       "                     endDate    value  \n",
       "0  2020-06-13 02:50:23 +0900  79.5536  \n",
       "1  2020-06-13 02:55:10 +0900  81.0000  \n",
       "2  2020-06-13 02:57:08 +0900  85.0000  \n",
       "3  2020-06-13 03:02:43 +0900  89.0000  \n",
       "4  2020-06-13 03:08:34 +0900  89.0000  "
      ]
     },
     "execution_count": 7,
     "metadata": {},
     "output_type": "execute_result"
    }
   ],
   "source": [
    "df1.head(5)"
   ]
  },
  {
   "cell_type": "markdown",
   "metadata": {},
   "source": [
    "Distribution graphs (histogram/bar graph) of sampled columns:"
   ]
  },
  {
   "cell_type": "code",
   "execution_count": 8,
   "metadata": {
    "_kg_hide-input": false,
    "collapsed": false
   },
   "outputs": [
    {
     "data": {
      "text/plain": [
       "<Figure size 2400x0 with 0 Axes>"
      ]
     },
     "metadata": {},
     "output_type": "display_data"
    }
   ],
   "source": [
    "plotPerColumnDistribution(df1, 10, 5)"
   ]
  },
  {
   "cell_type": "markdown",
   "metadata": {},
   "source": [
    "Correlation matrix:"
   ]
  },
  {
   "cell_type": "code",
   "execution_count": 9,
   "metadata": {
    "_kg_hide-input": false,
    "collapsed": false
   },
   "outputs": [
    {
     "data": {
      "image/png": "[encoded data removed]",
      "text/plain": [
       "<Figure size 640x640 with 2 Axes>"
      ]
     },
     "metadata": {},
     "output_type": "display_data"
    }
   ],
   "source": [
    "plotCorrelationMatrix(df1, 8)"
   ]
  },
  {
   "cell_type": "markdown",
   "metadata": {},
   "source": [
    "### Let's check 2nd file: /kaggle/input/AppleWatch - HeartRate StepCount etc 92406 rows - export20200620105726.csv"
   ]
  },
  {
   "cell_type": "code",
   "execution_count": 10,
   "metadata": {
    "_kg_hide-input": false,
    "collapsed": false
   },
   "outputs": [
    {
     "name": "stdout",
     "output_type": "stream",
     "text": [
      "There are 1000 rows and 8 columns\n"
     ]
    }
   ],
   "source": [
    "nRowsRead = 1000 # specify 'None' if want to read whole file\n",
    "# AppleWatch - HeartRate StepCount etc 92406 rows - export20200620105726.csv may have more rows in reality, but we are only loading/previewing the first 1000 rows\n",
    "df2 = pd.read_csv('./input/AppleWatch - HeartRate StepCount etc 92406 rows - export20200620105726.csv', delimiter=',', nrows = nRowsRead)\n",
    "df2.dataframeName = 'AppleWatch - HeartRate StepCount etc 92406 rows - export20200620105726.csv'\n",
    "nRow, nCol = df2.shape\n",
    "print(f'There are {nRow} rows and {nCol} columns')"
   ]
  },
  {
   "cell_type": "markdown",
   "metadata": {},
   "source": [
    "Let's take a quick look at what the data looks like:"
   ]
  },
  {
   "cell_type": "code",
   "execution_count": 11,
   "metadata": {
    "_kg_hide-input": false,
    "collapsed": false
   },
   "outputs": [
    {
     "data": {
      "text/html": [
       "<div>\n",
       "<style scoped>\n",
       "    .dataframe tbody tr th:only-of-type {\n",
       "        vertical-align: middle;\n",
       "    }\n",
       "\n",
       "    .dataframe tbody tr th {\n",
       "        vertical-align: top;\n",
       "    }\n",
       "\n",
       "    .dataframe thead th {\n",
       "        text-align: right;\n",
       "    }\n",
       "</style>\n",
       "<table border=\"1\" class=\"dataframe\">\n",
       "  <thead>\n",
       "    <tr style=\"text-align: right;\">\n",
       "      <th></th>\n",
       "      <th>type</th>\n",
       "      <th>sourceName</th>\n",
       "      <th>sourceVersion</th>\n",
       "      <th>unit</th>\n",
       "      <th>creationDate</th>\n",
       "      <th>startDate</th>\n",
       "      <th>endDate</th>\n",
       "      <th>value</th>\n",
       "    </tr>\n",
       "  </thead>\n",
       "  <tbody>\n",
       "    <tr>\n",
       "      <th>0</th>\n",
       "      <td>HKQuantityTypeIdentifierHeight</td>\n",
       "      <td>ヘルスケア</td>\n",
       "      <td>10.1.1</td>\n",
       "      <td>cm</td>\n",
       "      <td>2016-12-25 13:07:19 +0900</td>\n",
       "      <td>2016-12-25 13:07:19 +0900</td>\n",
       "      <td>2016-12-25 13:07:19 +0900</td>\n",
       "      <td>183.0000</td>\n",
       "    </tr>\n",
       "    <tr>\n",
       "      <th>1</th>\n",
       "      <td>HKQuantityTypeIdentifierBodyMass</td>\n",
       "      <td>ヘルスケア</td>\n",
       "      <td>10.1.1</td>\n",
       "      <td>kg</td>\n",
       "      <td>2016-12-25 13:07:19 +0900</td>\n",
       "      <td>2016-12-25 13:07:19 +0900</td>\n",
       "      <td>2016-12-25 13:07:19 +0900</td>\n",
       "      <td>85.0000</td>\n",
       "    </tr>\n",
       "    <tr>\n",
       "      <th>2</th>\n",
       "      <td>HKQuantityTypeIdentifierHeartRate</td>\n",
       "      <td>石井大輔のApple Watch</td>\n",
       "      <td>6.1.3</td>\n",
       "      <td>count/min</td>\n",
       "      <td>2020-06-13 02:50:42 +0900</td>\n",
       "      <td>2020-06-13 02:50:23 +0900</td>\n",
       "      <td>2020-06-13 02:50:23 +0900</td>\n",
       "      <td>79.5536</td>\n",
       "    </tr>\n",
       "    <tr>\n",
       "      <th>3</th>\n",
       "      <td>HKQuantityTypeIdentifierHeartRate</td>\n",
       "      <td>石井大輔のApple Watch</td>\n",
       "      <td>6.1.3</td>\n",
       "      <td>count/min</td>\n",
       "      <td>2020-06-13 02:55:24 +0900</td>\n",
       "      <td>2020-06-13 02:55:10 +0900</td>\n",
       "      <td>2020-06-13 02:55:10 +0900</td>\n",
       "      <td>81.0000</td>\n",
       "    </tr>\n",
       "    <tr>\n",
       "      <th>4</th>\n",
       "      <td>HKQuantityTypeIdentifierHeartRate</td>\n",
       "      <td>石井大輔のApple Watch</td>\n",
       "      <td>6.1.3</td>\n",
       "      <td>count/min</td>\n",
       "      <td>2020-06-13 03:01:15 +0900</td>\n",
       "      <td>2020-06-13 02:57:08 +0900</td>\n",
       "      <td>2020-06-13 02:57:08 +0900</td>\n",
       "      <td>85.0000</td>\n",
       "    </tr>\n",
       "  </tbody>\n",
       "</table>\n",
       "</div>"
      ],
      "text/plain": [
       "                                type        sourceName sourceVersion  \\\n",
       "0     HKQuantityTypeIdentifierHeight             ヘルスケア        10.1.1   \n",
       "1   HKQuantityTypeIdentifierBodyMass             ヘルスケア        10.1.1   \n",
       "2  HKQuantityTypeIdentifierHeartRate  石井大輔のApple Watch         6.1.3   \n",
       "3  HKQuantityTypeIdentifierHeartRate  石井大輔のApple Watch         6.1.3   \n",
       "4  HKQuantityTypeIdentifierHeartRate  石井大輔のApple Watch         6.1.3   \n",
       "\n",
       "        unit               creationDate                  startDate  \\\n",
       "0         cm  2016-12-25 13:07:19 +0900  2016-12-25 13:07:19 +0900   \n",
       "1         kg  2016-12-25 13:07:19 +0900  2016-12-25 13:07:19 +0900   \n",
       "2  count/min  2020-06-13 02:50:42 +0900  2020-06-13 02:50:23 +0900   \n",
       "3  count/min  2020-06-13 02:55:24 +0900  2020-06-13 02:55:10 +0900   \n",
       "4  count/min  2020-06-13 03:01:15 +0900  2020-06-13 02:57:08 +0900   \n",
       "\n",
       "                     endDate     value  \n",
       "0  2016-12-25 13:07:19 +0900  183.0000  \n",
       "1  2016-12-25 13:07:19 +0900   85.0000  \n",
       "2  2020-06-13 02:50:23 +0900   79.5536  \n",
       "3  2020-06-13 02:55:10 +0900   81.0000  \n",
       "4  2020-06-13 02:57:08 +0900   85.0000  "
      ]
     },
     "execution_count": 11,
     "metadata": {},
     "output_type": "execute_result"
    }
   ],
   "source": [
    "df2.head(5)"
   ]
  },
  {
   "cell_type": "markdown",
   "metadata": {},
   "source": [
    "Distribution graphs (histogram/bar graph) of sampled columns:"
   ]
  },
  {
   "cell_type": "code",
   "execution_count": 12,
   "metadata": {
    "_kg_hide-input": false,
    "collapsed": false
   },
   "outputs": [
    {
     "name": "stderr",
     "output_type": "stream",
     "text": [
      "/tmp/ipykernel_282122/2869905496.py:20: UserWarning: Glyph 30707 (\\N{CJK UNIFIED IDEOGRAPH-77F3}) missing from font(s) DejaVu Sans.\n",
      "  plt.tight_layout(pad = 1.0, w_pad = 1.0, h_pad = 1.0)\n",
      "/tmp/ipykernel_282122/2869905496.py:20: UserWarning: Glyph 20117 (\\N{CJK UNIFIED IDEOGRAPH-4E95}) missing from font(s) DejaVu Sans.\n",
      "  plt.tight_layout(pad = 1.0, w_pad = 1.0, h_pad = 1.0)\n",
      "/tmp/ipykernel_282122/2869905496.py:20: UserWarning: Glyph 22823 (\\N{CJK UNIFIED IDEOGRAPH-5927}) missing from font(s) DejaVu Sans.\n",
      "  plt.tight_layout(pad = 1.0, w_pad = 1.0, h_pad = 1.0)\n",
      "/tmp/ipykernel_282122/2869905496.py:20: UserWarning: Glyph 36628 (\\N{CJK UNIFIED IDEOGRAPH-8F14}) missing from font(s) DejaVu Sans.\n",
      "  plt.tight_layout(pad = 1.0, w_pad = 1.0, h_pad = 1.0)\n",
      "/tmp/ipykernel_282122/2869905496.py:20: UserWarning: Glyph 12398 (\\N{HIRAGANA LETTER NO}) missing from font(s) DejaVu Sans.\n",
      "  plt.tight_layout(pad = 1.0, w_pad = 1.0, h_pad = 1.0)\n",
      "/tmp/ipykernel_282122/2869905496.py:20: UserWarning: Glyph 12504 (\\N{KATAKANA LETTER HE}) missing from font(s) DejaVu Sans.\n",
      "  plt.tight_layout(pad = 1.0, w_pad = 1.0, h_pad = 1.0)\n",
      "/tmp/ipykernel_282122/2869905496.py:20: UserWarning: Glyph 12523 (\\N{KATAKANA LETTER RU}) missing from font(s) DejaVu Sans.\n",
      "  plt.tight_layout(pad = 1.0, w_pad = 1.0, h_pad = 1.0)\n",
      "/tmp/ipykernel_282122/2869905496.py:20: UserWarning: Glyph 12473 (\\N{KATAKANA LETTER SU}) missing from font(s) DejaVu Sans.\n",
      "  plt.tight_layout(pad = 1.0, w_pad = 1.0, h_pad = 1.0)\n",
      "/tmp/ipykernel_282122/2869905496.py:20: UserWarning: Glyph 12465 (\\N{KATAKANA LETTER KE}) missing from font(s) DejaVu Sans.\n",
      "  plt.tight_layout(pad = 1.0, w_pad = 1.0, h_pad = 1.0)\n",
      "/tmp/ipykernel_282122/2869905496.py:20: UserWarning: Glyph 12450 (\\N{KATAKANA LETTER A}) missing from font(s) DejaVu Sans.\n",
      "  plt.tight_layout(pad = 1.0, w_pad = 1.0, h_pad = 1.0)\n",
      "/home/xuan/miniconda3/envs/DAT300/lib/python3.12/site-packages/IPython/core/pylabtools.py:170: UserWarning: Glyph 30707 (\\N{CJK UNIFIED IDEOGRAPH-77F3}) missing from font(s) DejaVu Sans.\n",
      "  fig.canvas.print_figure(bytes_io, **kw)\n",
      "/home/xuan/miniconda3/envs/DAT300/lib/python3.12/site-packages/IPython/core/pylabtools.py:170: UserWarning: Glyph 20117 (\\N{CJK UNIFIED IDEOGRAPH-4E95}) missing from font(s) DejaVu Sans.\n",
      "  fig.canvas.print_figure(bytes_io, **kw)\n",
      "/home/xuan/miniconda3/envs/DAT300/lib/python3.12/site-packages/IPython/core/pylabtools.py:170: UserWarning: Glyph 22823 (\\N{CJK UNIFIED IDEOGRAPH-5927}) missing from font(s) DejaVu Sans.\n",
      "  fig.canvas.print_figure(bytes_io, **kw)\n",
      "/home/xuan/miniconda3/envs/DAT300/lib/python3.12/site-packages/IPython/core/pylabtools.py:170: UserWarning: Glyph 36628 (\\N{CJK UNIFIED IDEOGRAPH-8F14}) missing from font(s) DejaVu Sans.\n",
      "  fig.canvas.print_figure(bytes_io, **kw)\n",
      "/home/xuan/miniconda3/envs/DAT300/lib/python3.12/site-packages/IPython/core/pylabtools.py:170: UserWarning: Glyph 12398 (\\N{HIRAGANA LETTER NO}) missing from font(s) DejaVu Sans.\n",
      "  fig.canvas.print_figure(bytes_io, **kw)\n",
      "/home/xuan/miniconda3/envs/DAT300/lib/python3.12/site-packages/IPython/core/pylabtools.py:170: UserWarning: Glyph 12504 (\\N{KATAKANA LETTER HE}) missing from font(s) DejaVu Sans.\n",
      "  fig.canvas.print_figure(bytes_io, **kw)\n",
      "/home/xuan/miniconda3/envs/DAT300/lib/python3.12/site-packages/IPython/core/pylabtools.py:170: UserWarning: Glyph 12523 (\\N{KATAKANA LETTER RU}) missing from font(s) DejaVu Sans.\n",
      "  fig.canvas.print_figure(bytes_io, **kw)\n",
      "/home/xuan/miniconda3/envs/DAT300/lib/python3.12/site-packages/IPython/core/pylabtools.py:170: UserWarning: Glyph 12473 (\\N{KATAKANA LETTER SU}) missing from font(s) DejaVu Sans.\n",
      "  fig.canvas.print_figure(bytes_io, **kw)\n",
      "/home/xuan/miniconda3/envs/DAT300/lib/python3.12/site-packages/IPython/core/pylabtools.py:170: UserWarning: Glyph 12465 (\\N{KATAKANA LETTER KE}) missing from font(s) DejaVu Sans.\n",
      "  fig.canvas.print_figure(bytes_io, **kw)\n",
      "/home/xuan/miniconda3/envs/DAT300/lib/python3.12/site-packages/IPython/core/pylabtools.py:170: UserWarning: Glyph 12450 (\\N{KATAKANA LETTER A}) missing from font(s) DejaVu Sans.\n",
      "  fig.canvas.print_figure(bytes_io, **kw)\n"
     ]
    },
    {
     "data": {
      "image/png": "[encoded data removed]",
      "text/plain": [
       "<Figure size 2400x640 with 4 Axes>"
      ]
     },
     "metadata": {},
     "output_type": "display_data"
    }
   ],
   "source": [
    "plotPerColumnDistribution(df2, 10, 5)"
   ]
  },
  {
   "cell_type": "markdown",
   "metadata": {},
   "source": [
    "## Conclusion\n",
    "This concludes your starter analysis! To go forward from here, click the blue \"Fork Notebook\" button at the top of this kernel. This will create a copy of the code and environment for you to edit. Delete, modify, and add code as you please. Happy Kaggling!"
   ]
  }
 ],
 "metadata": {
  "kernelspec": {
   "display_name": "DAT300",
   "language": "python",
   "name": "python3"
  },
  "language_info": {
   "codemirror_mode": {
    "name": "ipython",
    "version": 3
   },
   "file_extension": ".py",
   "mimetype": "text/x-python",
   "name": "python",
   "nbconvert_exporter": "python",
   "pygments_lexer": "ipython3",
   "version": "3.12.11"
  }
 },
 "nbformat": 4,
 "nbformat_minor": 4
}
